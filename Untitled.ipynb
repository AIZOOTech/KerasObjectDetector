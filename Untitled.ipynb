{
 "cells": [
  {
   "cell_type": "code",
   "execution_count": null,
   "metadata": {},
   "outputs": [],
   "source": [
    "import keras\n",
    "import yolk \n",
    "\n",
    "voc_train, voc_valid = yolk.datasets.pascal_voc07()\n",
    "yolov3 = yolk.models.yolov3()\n",
    "\n",
    "yolov3.compile(\n",
    "        loss=yolk.losses.yolov3Loss\n",
    "        optimizer='adam', metrics=['coco']\n",
    "    )\n",
    "    \n",
    "yolov3.fit_generator(\n",
    "        generator=voc_train,\n",
    "        validation_data=voc_valid,\n",
    "        epochs=20\n",
    ")"
   ]
  }
 ],
 "metadata": {
  "kernelspec": {
   "display_name": "Python 3",
   "language": "python",
   "name": "python3"
  },
  "language_info": {
   "codemirror_mode": {
    "name": "ipython",
    "version": 3
   },
   "file_extension": ".py",
   "mimetype": "text/x-python",
   "name": "python",
   "nbconvert_exporter": "python",
   "pygments_lexer": "ipython3",
   "version": "3.6.9"
  }
 },
 "nbformat": 4,
 "nbformat_minor": 2
}
