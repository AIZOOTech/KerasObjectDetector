{
 "cells": [
  {
   "cell_type": "code",
   "execution_count": 4,
   "metadata": {},
   "outputs": [],
   "source": [
    "# show images inline\n",
    "%matplotlib inline\n",
    "\n",
    "import sys, os\n",
    "sys.path.insert(0, os.path.abspath('..'))\n",
    "import yolk\n",
    "from PIL import Image\n",
    "\n",
    "# import miscellaneous modules\n",
    "import matplotlib.pyplot as plt\n",
    "import cv2\n",
    "import numpy as np \n",
    "from utils.show_bbox_plt import draw_bounding_boxes_on_images"
   ]
  },
  {
   "cell_type": "code",
   "execution_count": 11,
   "metadata": {},
   "outputs": [],
   "source": [
    "def main():\n",
    "    _BACKEND = 'retinanet'\n",
    "    image_paths = ['./000000008021.jpg', './twice.jpg']\n",
    "    images = []\n",
    "    preprocess_images = []\n",
    "    results = []\n",
    "    class_info = ['person', 'bicycle', 'car', 'motorcycle', 'airplane', 'bus', 'train', 'truck', 'boat', 'traffic light', 'fire hydrant', 'stop sign', 'parking meter', 'bench', 'bird', 'cat', 'dog', 'horse', 'sheep', 'cow', 'elephant', 'bear', 'zebra', 'giraffe', 'backpack', 'umbrella', 'handbag', 'tie', 'suitcase', 'frisbee', 'skis', 'snowboard', 'sports ball', 'kite', 'baseball bat', 'baseball glove', 'skateboard', 'surfboard', 'tennis racket', 'bottle', 'wine glass', 'cup', 'fork', 'knife', 'spoon', 'bowl', 'banana', 'apple', 'sandwich', 'orange', 'broccoli', 'carrot', 'hot dog', 'pizza', 'donut', 'cake', 'chair', 'couch', 'potted plant', 'bed', 'dining table', 'toilet', 'tv', 'laptop', 'mouse', 'remote', 'keyboard', 'cell phone', 'microwave', 'oven', 'toaster', 'sink', 'refrigerator', 'book', 'clock', 'vase', 'scissors', 'teddy bear', 'hair drier', 'toothbrush']\n",
    "    \n",
    "    ## load image & preprocess image\n",
    "    for each_path in image_paths: \n",
    "        loaded_image, preprocessed_image = yolk.detector.preprocess_image(each_path)\n",
    "        \n",
    "        images.append(loaded_image)\n",
    "        preprocess_images.append(preprocessed_image)\n",
    "    \n",
    "    ## load model\n",
    "    model_path = os.path.join('..', 'snapshots', 'resnet50_coco_best_v2.1.0.h5')\n",
    "    model = yolk.detector.load_inference_model(model_path, 'resnet50')\n",
    "\n",
    "    for each_preprocess_image in preprocess_images:\n",
    "        ## model predict\n",
    "        output = model.predict_on_batch(np.expand_dims(each_preprocess_image, axis=0))\n",
    "        \n",
    "        ## postprocess\n",
    "        result = yolk.detector.postprocess_image(output, class_info)\n",
    "        results.append(result)     \n",
    "        \n",
    "    ## draw images\n",
    "    draw_bounding_boxes_on_images(images, results, class_info, thresold=0.5)   "
   ]
  },
  {
   "cell_type": "code",
   "execution_count": 12,
   "metadata": {
    "scrolled": true
   },
   "outputs": [
    {
     "name": "stdout",
     "output_type": "stream",
     "text": [
      "tracking <tf.Variable 'Variable_20:0' shape=(9, 4) dtype=float32> anchors\n",
      "tracking <tf.Variable 'Variable_21:0' shape=(9, 4) dtype=float32> anchors\n",
      "tracking <tf.Variable 'Variable_22:0' shape=(9, 4) dtype=float32> anchors\n",
      "tracking <tf.Variable 'Variable_23:0' shape=(9, 4) dtype=float32> anchors\n",
      "tracking <tf.Variable 'Variable_24:0' shape=(9, 4) dtype=float32> anchors\n",
      "(2, 1, 300, 6)\n",
      "[[[[ 1.00000000e+00  9.68111873e-01  4.09019653e+02  1.67141815e+02\n",
      "     7.28081665e+02  6.03420349e+02]\n",
      "   [ 1.00000000e+00  8.35583985e-01  5.06820679e-02  4.26605316e+02\n",
      "     5.12541138e+02  7.85832397e+02]\n",
      "   [ 1.00000000e+00  7.23440826e-01  7.23494690e+02  4.75749359e+02\n",
      "     1.06700000e+03  7.91431030e+02]\n",
      "   ...\n",
      "   [ 0.00000000e+00 -1.00000000e+00 -1.00000000e+00 -1.00000000e+00\n",
      "    -1.00000000e+00 -1.00000000e+00]\n",
      "   [ 0.00000000e+00 -1.00000000e+00 -1.00000000e+00 -1.00000000e+00\n",
      "    -1.00000000e+00 -1.00000000e+00]\n",
      "   [ 0.00000000e+00 -1.00000000e+00 -1.00000000e+00 -1.00000000e+00\n",
      "    -1.00000000e+00 -1.00000000e+00]]]\n",
      "\n",
      "\n",
      " [[[ 1.00000000e+00  8.41746271e-01  6.89757874e+02  2.42585846e+02\n",
      "     9.72602417e+02  7.59914551e+02]\n",
      "   [ 1.00000000e+00  8.32300246e-01  1.25002403e+01  5.23198814e+01\n",
      "     3.50522797e+02  7.62029907e+02]\n",
      "   [ 1.00000000e+00  7.34139919e-01  3.49540741e+02  2.18567947e+02\n",
      "     7.28291870e+02  7.94829956e+02]\n",
      "   ...\n",
      "   [ 0.00000000e+00 -1.00000000e+00 -1.00000000e+00 -1.00000000e+00\n",
      "    -1.00000000e+00 -1.00000000e+00]\n",
      "   [ 0.00000000e+00 -1.00000000e+00 -1.00000000e+00 -1.00000000e+00\n",
      "    -1.00000000e+00 -1.00000000e+00]\n",
      "   [ 0.00000000e+00 -1.00000000e+00 -1.00000000e+00 -1.00000000e+00\n",
      "    -1.00000000e+00 -1.00000000e+00]]]]\n"
     ]
    },
    {
     "ename": "ValueError",
     "evalue": "The truth value of an array with more than one element is ambiguous. Use a.any() or a.all()",
     "output_type": "error",
     "traceback": [
      "\u001b[1;31m---------------------------------------------------------------------------\u001b[0m",
      "\u001b[1;31mValueError\u001b[0m                                Traceback (most recent call last)",
      "\u001b[1;32m<ipython-input-12-c7bc734e5e35>\u001b[0m in \u001b[0;36m<module>\u001b[1;34m\u001b[0m\n\u001b[0;32m      1\u001b[0m \u001b[1;32mif\u001b[0m \u001b[0m__name__\u001b[0m \u001b[1;33m==\u001b[0m \u001b[1;34m'__main__'\u001b[0m\u001b[1;33m:\u001b[0m\u001b[1;33m\u001b[0m\u001b[1;33m\u001b[0m\u001b[0m\n\u001b[1;32m----> 2\u001b[1;33m     \u001b[0mmain\u001b[0m\u001b[1;33m(\u001b[0m\u001b[1;33m)\u001b[0m\u001b[1;33m\u001b[0m\u001b[1;33m\u001b[0m\u001b[0m\n\u001b[0m",
      "\u001b[1;32m<ipython-input-11-798a7ce1b9fa>\u001b[0m in \u001b[0;36mmain\u001b[1;34m()\u001b[0m\n\u001b[0;32m     30\u001b[0m     \u001b[0mprint\u001b[0m\u001b[1;33m(\u001b[0m\u001b[0mresults\u001b[0m\u001b[1;33m)\u001b[0m\u001b[1;33m\u001b[0m\u001b[1;33m\u001b[0m\u001b[0m\n\u001b[0;32m     31\u001b[0m     \u001b[1;31m## draw images\u001b[0m\u001b[1;33m\u001b[0m\u001b[1;33m\u001b[0m\u001b[1;33m\u001b[0m\u001b[0m\n\u001b[1;32m---> 32\u001b[1;33m     \u001b[0mdraw_bounding_boxes_on_images\u001b[0m\u001b[1;33m(\u001b[0m\u001b[0mimages\u001b[0m\u001b[1;33m,\u001b[0m \u001b[0mresults\u001b[0m\u001b[1;33m,\u001b[0m \u001b[0mclass_info\u001b[0m\u001b[1;33m,\u001b[0m \u001b[0mthresold\u001b[0m\u001b[1;33m=\u001b[0m\u001b[1;36m0.5\u001b[0m\u001b[1;33m)\u001b[0m\u001b[1;33m\u001b[0m\u001b[1;33m\u001b[0m\u001b[0m\n\u001b[0m",
      "\u001b[1;32m~\\Desktop\\programming\\machineLearning\\sw_contribution\\KerasObjectDetector\\utils\\show_bbox_plt.py\u001b[0m in \u001b[0;36mdraw_bounding_boxes_on_images\u001b[1;34m(images, results, class_info, thresold)\u001b[0m\n\u001b[0;32m     13\u001b[0m \u001b[1;33m\u001b[0m\u001b[0m\n\u001b[0;32m     14\u001b[0m                 \u001b[1;31m# Get detections with confidence higher than thresold <- probability\u001b[0m\u001b[1;33m\u001b[0m\u001b[1;33m\u001b[0m\u001b[1;33m\u001b[0m\u001b[0m\n\u001b[1;32m---> 15\u001b[1;33m                 \u001b[0mtop_indices\u001b[0m \u001b[1;33m=\u001b[0m \u001b[1;33m[\u001b[0m\u001b[0mi\u001b[0m \u001b[1;32mfor\u001b[0m \u001b[0mi\u001b[0m\u001b[1;33m,\u001b[0m \u001b[0mconf\u001b[0m \u001b[1;32min\u001b[0m \u001b[0menumerate\u001b[0m\u001b[1;33m(\u001b[0m\u001b[0mdet_conf\u001b[0m\u001b[1;33m)\u001b[0m \u001b[1;32mif\u001b[0m \u001b[0mconf\u001b[0m \u001b[1;33m>=\u001b[0m \u001b[0mthresold\u001b[0m\u001b[1;33m]\u001b[0m\u001b[1;33m\u001b[0m\u001b[1;33m\u001b[0m\u001b[0m\n\u001b[0m\u001b[0;32m     16\u001b[0m                 \u001b[0mtop_conf\u001b[0m \u001b[1;33m=\u001b[0m \u001b[0mdet_conf\u001b[0m\u001b[1;33m[\u001b[0m\u001b[0mtop_indices\u001b[0m\u001b[1;33m]\u001b[0m\u001b[1;33m\u001b[0m\u001b[1;33m\u001b[0m\u001b[0m\n\u001b[0;32m     17\u001b[0m                 \u001b[0mtop_label_indices\u001b[0m \u001b[1;33m=\u001b[0m \u001b[0mdet_label\u001b[0m\u001b[1;33m[\u001b[0m\u001b[0mtop_indices\u001b[0m\u001b[1;33m]\u001b[0m\u001b[1;33m.\u001b[0m\u001b[0mtolist\u001b[0m\u001b[1;33m(\u001b[0m\u001b[1;33m)\u001b[0m\u001b[1;33m\u001b[0m\u001b[1;33m\u001b[0m\u001b[0m\n",
      "\u001b[1;32m~\\Desktop\\programming\\machineLearning\\sw_contribution\\KerasObjectDetector\\utils\\show_bbox_plt.py\u001b[0m in \u001b[0;36m<listcomp>\u001b[1;34m(.0)\u001b[0m\n\u001b[0;32m     13\u001b[0m \u001b[1;33m\u001b[0m\u001b[0m\n\u001b[0;32m     14\u001b[0m                 \u001b[1;31m# Get detections with confidence higher than thresold <- probability\u001b[0m\u001b[1;33m\u001b[0m\u001b[1;33m\u001b[0m\u001b[1;33m\u001b[0m\u001b[0m\n\u001b[1;32m---> 15\u001b[1;33m                 \u001b[0mtop_indices\u001b[0m \u001b[1;33m=\u001b[0m \u001b[1;33m[\u001b[0m\u001b[0mi\u001b[0m \u001b[1;32mfor\u001b[0m \u001b[0mi\u001b[0m\u001b[1;33m,\u001b[0m \u001b[0mconf\u001b[0m \u001b[1;32min\u001b[0m \u001b[0menumerate\u001b[0m\u001b[1;33m(\u001b[0m\u001b[0mdet_conf\u001b[0m\u001b[1;33m)\u001b[0m \u001b[1;32mif\u001b[0m \u001b[0mconf\u001b[0m \u001b[1;33m>=\u001b[0m \u001b[0mthresold\u001b[0m\u001b[1;33m]\u001b[0m\u001b[1;33m\u001b[0m\u001b[1;33m\u001b[0m\u001b[0m\n\u001b[0m\u001b[0;32m     16\u001b[0m                 \u001b[0mtop_conf\u001b[0m \u001b[1;33m=\u001b[0m \u001b[0mdet_conf\u001b[0m\u001b[1;33m[\u001b[0m\u001b[0mtop_indices\u001b[0m\u001b[1;33m]\u001b[0m\u001b[1;33m\u001b[0m\u001b[1;33m\u001b[0m\u001b[0m\n\u001b[0;32m     17\u001b[0m                 \u001b[0mtop_label_indices\u001b[0m \u001b[1;33m=\u001b[0m \u001b[0mdet_label\u001b[0m\u001b[1;33m[\u001b[0m\u001b[0mtop_indices\u001b[0m\u001b[1;33m]\u001b[0m\u001b[1;33m.\u001b[0m\u001b[0mtolist\u001b[0m\u001b[1;33m(\u001b[0m\u001b[1;33m)\u001b[0m\u001b[1;33m\u001b[0m\u001b[1;33m\u001b[0m\u001b[0m\n",
      "\u001b[1;31mValueError\u001b[0m: The truth value of an array with more than one element is ambiguous. Use a.any() or a.all()"
     ]
    }
   ],
   "source": [
    "if __name__ == '__main__':\n",
    "    main()"
   ]
  },
  {
   "cell_type": "code",
   "execution_count": null,
   "metadata": {},
   "outputs": [],
   "source": []
  }
 ],
 "metadata": {
  "kernelspec": {
   "display_name": "Python 3",
   "language": "python",
   "name": "python3"
  }
 },
 "nbformat": 4,
 "nbformat_minor": 2
}
